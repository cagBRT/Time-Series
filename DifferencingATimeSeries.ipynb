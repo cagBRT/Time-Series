{
  "nbformat": 4,
  "nbformat_minor": 0,
  "metadata": {
    "colab": {
      "name": "DifferencingATimeSeries.ipynb",
      "private_outputs": true,
      "provenance": [],
      "authorship_tag": "ABX9TyOxQDzatPAD+wO14ujG8ICQ",
      "include_colab_link": true
    },
    "kernelspec": {
      "name": "python3",
      "display_name": "Python 3"
    }
  },
  "cells": [
    {
      "cell_type": "markdown",
      "metadata": {
        "id": "view-in-github",
        "colab_type": "text"
      },
      "source": [
        "<a href=\"https://colab.research.google.com/github/cagBRT/Time-Series/blob/master/DifferencingATimeSeries.ipynb\" target=\"_parent\"><img src=\"https://colab.research.google.com/assets/colab-badge.svg\" alt=\"Open In Colab\"/></a>"
      ]
    },
    {
      "cell_type": "markdown",
      "metadata": {
        "id": "k1Vid2cr8gPk"
      },
      "source": [
        "https://machinelearningmastery.com/difference-time-series-dataset-python/"
      ]
    },
    {
      "cell_type": "code",
      "metadata": {
        "id": "Nu8wFqvZ7vit"
      },
      "source": [
        "# Clone the entire repo.\n",
        "!git clone -s https://github.com/cagBRT/timeSeries.git cloned-repo\n",
        "%cd cloned-repo"
      ],
      "execution_count": null,
      "outputs": []
    },
    {
      "cell_type": "code",
      "metadata": {
        "id": "oV27L3MY8ktT"
      },
      "source": [
        "from pandas import read_csv\n",
        "from pandas import datetime\n",
        "from matplotlib import pyplot\n",
        "from pandas import Series"
      ],
      "execution_count": null,
      "outputs": []
    },
    {
      "cell_type": "code",
      "metadata": {
        "id": "0VJLVky68n7n"
      },
      "source": [
        "def parser(x):\n",
        "\treturn datetime.strptime('190'+x, '%Y-%m')"
      ],
      "execution_count": null,
      "outputs": []
    },
    {
      "cell_type": "markdown",
      "metadata": {
        "id": "YwbsoMrT69BO"
      },
      "source": [
        "# **Differencing is a method of transforming a time series dataset.**\n",
        "\n",
        "It can be used to remove the series dependence on time, so-called temporal dependence. This includes structures like trends and seasonality.\n",
        "\n",
        "Differencing can help stabilize the mean of the time series by removing changes in the level of a time series, and so eliminating (or reducing) trend and seasonality.\n"
      ]
    },
    {
      "cell_type": "markdown",
      "metadata": {
        "id": "zz1MnIiN7HBp"
      },
      "source": [
        "Differencing is performed by subtracting the previous observation from the current observation.\n",
        "\n",
        ">difference(t) = observation(t) - observation(t-1)\n"
      ]
    },
    {
      "cell_type": "markdown",
      "metadata": {
        "id": "SQjfm4tH7U7x"
      },
      "source": [
        "# **Lag Difference**\n",
        "Taking the difference between consecutive observations is called a lag-1 difference.\n",
        "\n",
        "The lag difference can be adjusted to suit the specific temporal structure.\n",
        "\n",
        "For time series with a seasonal component, the lag may be expected to be the period (width) of the seasonality."
      ]
    },
    {
      "cell_type": "markdown",
      "metadata": {
        "id": "U0S4QUM27eBU"
      },
      "source": [
        "# **Difference Order**\n",
        "Temporal structure may still exist after performing a differencing operation, such as in the case of a nonlinear trend.\n",
        "\n",
        "As such, the process of differencing can be repeated more than once until all temporal dependence has been removed.\n",
        "\n",
        "The number of times that differencing is performed is called the difference order."
      ]
    },
    {
      "cell_type": "code",
      "metadata": {
        "id": "bDj1Ugpz6yEu"
      },
      "source": [
        "series = read_csv('shampoo.csv', header=0, parse_dates=[0], index_col=0, squeeze=True, date_parser=parser)\n",
        "series.plot()\n",
        "pyplot.show()"
      ],
      "execution_count": null,
      "outputs": []
    },
    {
      "cell_type": "markdown",
      "metadata": {
        "id": "X0SaiV9078xd"
      },
      "source": [
        "# **Manual Differencing**\n",
        "We can difference the dataset manually.\n",
        "\n",
        "This involves developing a new function that creates a differenced dataset. The function would loop through a provided series and calculate the differenced values at the specified interval or lag.\n",
        "\n",
        "The function below named difference() implements this procedure."
      ]
    },
    {
      "cell_type": "code",
      "metadata": {
        "id": "GkOfpIRd7-ew"
      },
      "source": [
        "# create a differenced series\n",
        "def difference(dataset, interval=1):\n",
        "\tdiff = list()\n",
        "\tfor i in range(interval, len(dataset)):\n",
        "\t\tvalue = dataset[i] - dataset[i - interval]\n",
        "\t\tdiff.append(value)\n",
        "\treturn Series(diff)"
      ],
      "execution_count": null,
      "outputs": []
    },
    {
      "cell_type": "markdown",
      "metadata": {
        "id": "spzVhah-8GHi"
      },
      "source": [
        "We can see that the function is careful to begin the differenced dataset after the specified interval to ensure differenced values can, in fact, be calculated. A default interval or lag value of 1 is defined. This is a sensible default.\n",
        "\n",
        "One further improvement would be to also be able to specify the order or number of times to perform the differencing operation.\n",
        "\n",
        "The example below applies the manual difference() function to the Shampoo Sales dataset"
      ]
    },
    {
      "cell_type": "code",
      "metadata": {
        "id": "QqAxd-QO8HNk"
      },
      "source": [
        "X = series.values\n",
        "diff = difference(X)\n",
        "pyplot.plot(diff)\n",
        "pyplot.show()"
      ],
      "execution_count": null,
      "outputs": []
    },
    {
      "cell_type": "markdown",
      "metadata": {
        "id": "epR1u1wN8QtW"
      },
      "source": [
        "# **Automatic Differencing**\n",
        "The Pandas library provides a function to automatically calculate the difference of a dataset.\n",
        "\n",
        "This diff() function is provided on both the Series and DataFrame objects.\n",
        "\n",
        "Like the manually defined difference function in the previous section, it takes an argument to specify the interval or lag, in this case called the periods.\n",
        "\n",
        "The example below demonstrates how to use the built-in difference function on the Pandas Series object."
      ]
    },
    {
      "cell_type": "code",
      "metadata": {
        "id": "p9cSAlUQ8UbU"
      },
      "source": [
        "diff = series.diff()\n",
        "pyplot.plot(diff)\n",
        "pyplot.show()"
      ],
      "execution_count": null,
      "outputs": []
    }
  ]
}